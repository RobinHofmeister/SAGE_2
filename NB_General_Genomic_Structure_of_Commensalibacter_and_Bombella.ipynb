{
 "cells": [
  {
   "cell_type": "markdown",
   "metadata": {},
   "source": [
    "# General  Genomic  Structure  of  Commensalibacter  and  Bombella"
   ]
  },
  {
   "cell_type": "markdown",
   "metadata": {},
   "source": [
    "In this notebook you can find the python functions used for the associated report. \n",
    "Genomes used are:\n",
    "    - Bombella 360 PacBio assembly : 'Bombella_PacBio_genes_localization.txt'\n",
    "    - Bombella ESl0368: 'Ga0216350.gff'\n",
    "Genes used in ESL0368 genome are:\n",
    "    - Metabolics:'metabo_368'\n",
    "    - Defenses: 'defense_368'\n",
    "    - Housekeepings:'Housekeeping_news.txt'\n",
    "    - Conserved: 'conserved_position_in_Pacbio'"
   ]
  },
  {
   "cell_type": "markdown",
   "metadata": {},
   "source": [
    " "
   ]
  },
  {
   "cell_type": "markdown",
   "metadata": {},
   "source": [
    " "
   ]
  },
  {
   "cell_type": "markdown",
   "metadata": {},
   "source": [
    "## - Get_real_pos:\n",
    "\n",
    "    takes a gene id and return its position in the new PacBio localization of genes"
   ]
  },
  {
   "cell_type": "code",
   "execution_count": 4,
   "metadata": {},
   "outputs": [],
   "source": [
    "def get_real_pos(gene_id):\n",
    "    file=open('Bombella_PacBio_genes_localization.txt')\n",
    "    for line in file:\n",
    "        tmp=line.split()\n",
    "        id1=tmp[0]\n",
    "        start1=tmp[8]\n",
    "        end1=tmp[9]\n",
    "        if id1==gene_id:\n",
    "            return(start1,end1)"
   ]
  },
  {
   "cell_type": "markdown",
   "metadata": {},
   "source": [
    "## - Get_product_name:\n",
    "\n",
    "takes a gene id and return its poroduct name in ESL0368 annotations\n"
   ]
  },
  {
   "cell_type": "code",
   "execution_count": 5,
   "metadata": {},
   "outputs": [],
   "source": [
    "def get_product_name(gene_id):\n",
    "    file=open('Ga0216350.gff')\n",
    "    for line in file:\n",
    "        tmp=line.split()\n",
    "        if len(tmp)>7:\n",
    "            id2=tmp[8][3:13]\n",
    "            if id2==gene_id:\n",
    "                if tmp[2]=='tRNA':\n",
    "                    product_name='tRNA'\n",
    "                else:\n",
    "                    product_name=line.strip()[line.find('product=')+8:]\n",
    "    return(product_name)"
   ]
  },
  {
   "cell_type": "markdown",
   "metadata": {},
   "source": [
    "## - Get_pos_product:\n",
    "\n",
    "used the two previous function to return the localisation of a given gene in the PacBio and its product name annotated in ESL0368\n",
    "\n",
    "\n",
    "Outputs a tab-delimited file following the structure: \"gene_start \\t gene_end \\t product_name\""
   ]
  },
  {
   "cell_type": "code",
   "execution_count": 6,
   "metadata": {},
   "outputs": [],
   "source": [
    "def get_pos_product(liste_genes_id, output_txt):\n",
    "    txt_file=open(output_txt,'w')\n",
    "    file=open(liste_genes_id)\n",
    "    liste=[]\n",
    "    for line in file:\n",
    "        liste.append(line.strip('\\n'))\n",
    "    \n",
    "    for gene_id in liste:\n",
    "        pos=get_real_pos(gene_id)\n",
    "        prod= get_product_name(gene_id)\n",
    "        if int(pos[0])>int(pos[1]):\n",
    "            w= str(pos[1])+'\\t'+str(pos[0])+'\\t'+str(prod)+'\\n'\n",
    "        else:\n",
    "            w= str(pos[0])+'\\t'+str(pos[1])+'\\t'+str(prod)+'\\n'\n",
    "        txt_file.write(w)"
   ]
  },
  {
   "cell_type": "code",
   "execution_count": null,
   "metadata": {},
   "outputs": [],
   "source": []
  },
  {
   "cell_type": "code",
   "execution_count": null,
   "metadata": {},
   "outputs": [],
   "source": []
  },
  {
   "cell_type": "markdown",
   "metadata": {},
   "source": [
    "# - Extract informations to plot genes in BRIG"
   ]
  },
  {
   "cell_type": "markdown",
   "metadata": {},
   "source": [
    "### Metabolism genes, defense genes, housekeeping genes:"
   ]
  },
  {
   "cell_type": "code",
   "execution_count": 7,
   "metadata": {},
   "outputs": [],
   "source": [
    "get_pos_product('metabo_368', 'V4_metabo_368.txt')\n",
    "get_pos_product('defense_368', 'V4_defense_368.txt')\n",
    "\n",
    "\n",
    "# few code to clean the file housekeeping before use\n",
    "file=open('Housekeeping_news.txt')\n",
    "txt_file=open('housekeeping_id_v2.txt','w')\n",
    "for line in file:\n",
    "    txt_file.write(line.strip('v='))\n",
    "txt_file.close()\n",
    "\n",
    "\n",
    "get_pos_product('housekeeping_id_v2.txt', 'V4_Housekeeping_368.txt')"
   ]
  },
  {
   "cell_type": "markdown",
   "metadata": {},
   "source": [
    "### Conserved genes\n",
    "positions of conserved domains extracted from GenoplotR and stored in the file V3_syntenic_genes.txt\n"
   ]
  },
  {
   "cell_type": "code",
   "execution_count": 9,
   "metadata": {},
   "outputs": [],
   "source": [
    "pacbio_file=open('Bombella_PacBio_genes_localization.txt')\n",
    "txt_file=open('V4_Syntenic_genes.txt','w')\n",
    "\n",
    "conserved_genes=[]\n",
    "\n",
    "# 1) get gene_id in PacBio\n",
    "for line in pacbio_file:\n",
    "    tmp=line.split()\n",
    "    gene_id=tmp[0]\n",
    "    start=tmp[8]\n",
    "    end=tmp[9]\n",
    "    \n",
    "    positions=open('conserved_position_in_Pacbio')\n",
    "    for line2 in positions:\n",
    "        tmp=line2.split()\n",
    "        if tmp[0]<start<tmp[1]:\n",
    "            conserved_genes.append(gene_id) # store gene id to test common with housekeeping genes\n",
    "            prod=get_product_name(gene_id) # get product name in esl0368\n",
    "            if start>end:\n",
    "                w=str(end)+'\\t'+str(start)+'\\t'+str(prod)+'\\n'\n",
    "            else:\n",
    "                w=str(start)+'\\t'+str(end)+'\\t'+str(prod)+'\\n'\n",
    "\n",
    "            txt_file.write(w)\n",
    "            \n",
    "txt_file.close()        \n"
   ]
  }
 ],
 "metadata": {
  "kernelspec": {
   "display_name": "Python 3",
   "language": "python",
   "name": "python3"
  },
  "language_info": {
   "codemirror_mode": {
    "name": "ipython",
    "version": 3
   },
   "file_extension": ".py",
   "mimetype": "text/x-python",
   "name": "python",
   "nbconvert_exporter": "python",
   "pygments_lexer": "ipython3",
   "version": "3.5.2"
  }
 },
 "nbformat": 4,
 "nbformat_minor": 2
}
